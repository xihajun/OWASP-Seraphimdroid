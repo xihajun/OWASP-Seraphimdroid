{
  "nbformat": 4,
  "nbformat_minor": 0,
  "metadata": {
    "colab": {
      "name": "Gamma.ipynb",
      "version": "0.3.2",
      "provenance": [],
      "include_colab_link": true
    },
    "kernelspec": {
      "name": "python3",
      "display_name": "Python 3"
    }
  },
  "cells": [
    {
      "cell_type": "markdown",
      "metadata": {
        "id": "view-in-github",
        "colab_type": "text"
      },
      "source": [
        "<a href=\"https://colab.research.google.com/github/xihajun/OWASP-Seraphimdroid/blob/master/documentation/Gamma.ipynb\" target=\"_parent\"><img src=\"https://colab.research.google.com/assets/colab-badge.svg\" alt=\"Open In Colab\"/></a>"
      ]
    },
    {
      "cell_type": "code",
      "metadata": {
        "id": "W3HLx-jSGsKs",
        "colab_type": "code",
        "outputId": "5e86d022-4192-49e5-8b05-cb397fdd18f9",
        "colab": {
          "base_uri": "https://localhost:8080/",
          "height": 275
        }
      },
      "source": [
        "import tensorflow as tf\n",
        "import os\n",
        "from tensorflow.python.framework import graph_util\n",
        "import tensorflow_probability as tfp\n",
        "tfd = tfp.distributions\n",
        "\n",
        "\n",
        "pb_file_path = os.getcwd()\n",
        "\n",
        "with tf.Session(graph=tf.Graph()) as sess:\n",
        "    input_x = tf.placeholder(\"float\", name='input_x')\n",
        "    input_y = tf.placeholder(\"float\", name='input_y')\n",
        "    inverse_gamma = tfd.InverseGamma(concentration=3.0, rate= input_y)\n",
        "    p_value = tf.Variable(0.05, name='p_value')\n",
        "    output_z = inverse_gamma.survival_function(input_x,name='survival_function')\n",
        "    output = tf.add(0.0,output_z,name='output')\n",
        "    sess.run(tf.global_variables_initializer())\n",
        "\n",
        "    # convert_variables_to_constants 需要指定output_node_names，list()，可以多个\n",
        "    constant_graph = graph_util.convert_variables_to_constants(sess, sess.graph_def, ['output'])\n",
        "\n",
        "    # 测试 OP\n",
        "    feed_dict = {input_x: 1, input_y: 3}\n",
        "    print(sess.run(output, feed_dict))\n",
        "\n",
        "    with tf.gfile.FastGFile('inverse_gamma_1.pb', mode='wb') as f:\n",
        "        f.write(constant_graph.SerializeToString())"
      ],
      "execution_count": 0,
      "outputs": [
        {
          "output_type": "stream",
          "text": [
            "WARNING: Logging before flag parsing goes to stderr.\n",
            "W0820 08:11:00.567298 140479411586944 deprecation.py:506] From /usr/local/lib/python3.6/dist-packages/tensorflow_probability/python/distributions/distribution.py:274: calling InverseGamma.__init__ (from tensorflow_probability.python.distributions.inverse_gamma) with rate is deprecated and will be removed after 2019-05-08.\n",
            "Instructions for updating:\n",
            "The `rate` parameter is deprecated. Use `scale` instead.The `rate` parameter was always interpreted as a `scale` parameter, but erroneously misnamed.\n",
            "W0820 08:11:00.793365 140479411586944 deprecation.py:323] From <ipython-input-1-973aa43f2278>:20: convert_variables_to_constants (from tensorflow.python.framework.graph_util_impl) is deprecated and will be removed in a future version.\n",
            "Instructions for updating:\n",
            "Use `tf.compat.v1.graph_util.convert_variables_to_constants`\n",
            "W0820 08:11:00.795053 140479411586944 deprecation.py:323] From /usr/local/lib/python3.6/dist-packages/tensorflow/python/framework/graph_util_impl.py:270: extract_sub_graph (from tensorflow.python.framework.graph_util_impl) is deprecated and will be removed in a future version.\n",
            "Instructions for updating:\n",
            "Use `tf.compat.v1.graph_util.extract_sub_graph`\n",
            "W0820 08:11:00.864527 140479411586944 deprecation.py:323] From <ipython-input-1-973aa43f2278>:26: FastGFile.__init__ (from tensorflow.python.platform.gfile) is deprecated and will be removed in a future version.\n",
            "Instructions for updating:\n",
            "Use tf.gfile.GFile.\n"
          ],
          "name": "stderr"
        },
        {
          "output_type": "stream",
          "text": [
            "0.5768099\n"
          ],
          "name": "stdout"
        }
      ]
    }
  ]
}